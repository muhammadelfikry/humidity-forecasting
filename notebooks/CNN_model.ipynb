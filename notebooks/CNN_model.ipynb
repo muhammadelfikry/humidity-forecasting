{
 "cells": [
  {
   "cell_type": "code",
   "execution_count": 8,
   "metadata": {},
   "outputs": [],
   "source": [
    "import tensorflow as tf\n",
    "from tensorflow.keras.layers import Conv1D, MaxPooling1D, Flatten, Dense\n",
    "from tensorflow.keras.metrics import MeanSquaredError, RootMeanSquaredError\n",
    "import matplotlib.pyplot as plt\n",
    "import numpy as np\n",
    "import pandas as pd\n",
    "from sklearn.preprocessing import MinMaxScaler"
   ]
  },
  {
   "cell_type": "code",
   "execution_count": 2,
   "metadata": {},
   "outputs": [
    {
     "data": {
      "text/html": [
       "<div>\n",
       "<style scoped>\n",
       "    .dataframe tbody tr th:only-of-type {\n",
       "        vertical-align: middle;\n",
       "    }\n",
       "\n",
       "    .dataframe tbody tr th {\n",
       "        vertical-align: top;\n",
       "    }\n",
       "\n",
       "    .dataframe thead th {\n",
       "        text-align: right;\n",
       "    }\n",
       "</style>\n",
       "<table border=\"1\" class=\"dataframe\">\n",
       "  <thead>\n",
       "    <tr style=\"text-align: right;\">\n",
       "      <th></th>\n",
       "      <th>Tanggal</th>\n",
       "      <th>RH_avg</th>\n",
       "    </tr>\n",
       "  </thead>\n",
       "  <tbody>\n",
       "    <tr>\n",
       "      <th>0</th>\n",
       "      <td>01-01-2010</td>\n",
       "      <td>85</td>\n",
       "    </tr>\n",
       "    <tr>\n",
       "      <th>1</th>\n",
       "      <td>02-01-2010</td>\n",
       "      <td>83</td>\n",
       "    </tr>\n",
       "    <tr>\n",
       "      <th>2</th>\n",
       "      <td>03-01-2010</td>\n",
       "      <td>86</td>\n",
       "    </tr>\n",
       "    <tr>\n",
       "      <th>3</th>\n",
       "      <td>04-01-2010</td>\n",
       "      <td>84</td>\n",
       "    </tr>\n",
       "    <tr>\n",
       "      <th>4</th>\n",
       "      <td>05-01-2010</td>\n",
       "      <td>80</td>\n",
       "    </tr>\n",
       "    <tr>\n",
       "      <th>...</th>\n",
       "      <td>...</td>\n",
       "      <td>...</td>\n",
       "    </tr>\n",
       "    <tr>\n",
       "      <th>4083</th>\n",
       "      <td>23-04-2021</td>\n",
       "      <td>84</td>\n",
       "    </tr>\n",
       "    <tr>\n",
       "      <th>4084</th>\n",
       "      <td>24-04-2021</td>\n",
       "      <td>89</td>\n",
       "    </tr>\n",
       "    <tr>\n",
       "      <th>4085</th>\n",
       "      <td>25-04-2021</td>\n",
       "      <td>84</td>\n",
       "    </tr>\n",
       "    <tr>\n",
       "      <th>4086</th>\n",
       "      <td>26-04-2021</td>\n",
       "      <td>80</td>\n",
       "    </tr>\n",
       "    <tr>\n",
       "      <th>4087</th>\n",
       "      <td>27-04-2021</td>\n",
       "      <td>91</td>\n",
       "    </tr>\n",
       "  </tbody>\n",
       "</table>\n",
       "<p>4088 rows × 2 columns</p>\n",
       "</div>"
      ],
      "text/plain": [
       "         Tanggal  RH_avg\n",
       "0     01-01-2010      85\n",
       "1     02-01-2010      83\n",
       "2     03-01-2010      86\n",
       "3     04-01-2010      84\n",
       "4     05-01-2010      80\n",
       "...          ...     ...\n",
       "4083  23-04-2021      84\n",
       "4084  24-04-2021      89\n",
       "4085  25-04-2021      84\n",
       "4086  26-04-2021      80\n",
       "4087  27-04-2021      91\n",
       "\n",
       "[4088 rows x 2 columns]"
      ]
     },
     "execution_count": 2,
     "metadata": {},
     "output_type": "execute_result"
    }
   ],
   "source": [
    "df = pd.read_csv(\"../data/processed/train_set.csv\")\n",
    "df\n"
   ]
  },
  {
   "cell_type": "code",
   "execution_count": 4,
   "metadata": {},
   "outputs": [
    {
     "data": {
      "text/html": [
       "<div>\n",
       "<style scoped>\n",
       "    .dataframe tbody tr th:only-of-type {\n",
       "        vertical-align: middle;\n",
       "    }\n",
       "\n",
       "    .dataframe tbody tr th {\n",
       "        vertical-align: top;\n",
       "    }\n",
       "\n",
       "    .dataframe thead th {\n",
       "        text-align: right;\n",
       "    }\n",
       "</style>\n",
       "<table border=\"1\" class=\"dataframe\">\n",
       "  <thead>\n",
       "    <tr style=\"text-align: right;\">\n",
       "      <th></th>\n",
       "      <th>Tanggal</th>\n",
       "      <th>RH_avg</th>\n",
       "    </tr>\n",
       "  </thead>\n",
       "  <tbody>\n",
       "    <tr>\n",
       "      <th>0</th>\n",
       "      <td>01-01-2010</td>\n",
       "      <td>0.68750</td>\n",
       "    </tr>\n",
       "    <tr>\n",
       "      <th>1</th>\n",
       "      <td>02-01-2010</td>\n",
       "      <td>0.62500</td>\n",
       "    </tr>\n",
       "    <tr>\n",
       "      <th>2</th>\n",
       "      <td>03-01-2010</td>\n",
       "      <td>0.71875</td>\n",
       "    </tr>\n",
       "    <tr>\n",
       "      <th>3</th>\n",
       "      <td>04-01-2010</td>\n",
       "      <td>0.65625</td>\n",
       "    </tr>\n",
       "    <tr>\n",
       "      <th>4</th>\n",
       "      <td>05-01-2010</td>\n",
       "      <td>0.53125</td>\n",
       "    </tr>\n",
       "  </tbody>\n",
       "</table>\n",
       "</div>"
      ],
      "text/plain": [
       "      Tanggal   RH_avg\n",
       "0  01-01-2010  0.68750\n",
       "1  02-01-2010  0.62500\n",
       "2  03-01-2010  0.71875\n",
       "3  04-01-2010  0.65625\n",
       "4  05-01-2010  0.53125"
      ]
     },
     "execution_count": 4,
     "metadata": {},
     "output_type": "execute_result"
    }
   ],
   "source": [
    "min_max_scaler = MinMaxScaler()\n",
    "df[\"RH_avg\"] = min_max_scaler.fit_transform(df[[\"RH_avg\"]])\n",
    "df.head()"
   ]
  },
  {
   "cell_type": "code",
   "execution_count": 5,
   "metadata": {},
   "outputs": [],
   "source": [
    "dates = df[\"Tanggal\"].values\n",
    "humidity = df[\"RH_avg\"].values"
   ]
  },
  {
   "cell_type": "code",
   "execution_count": 6,
   "metadata": {},
   "outputs": [],
   "source": [
    "def windowed_dataset(series, window_size, batch_size, shuffle_buffer):\n",
    "    series = tf.expand_dims(series, axis=-1)\n",
    "    ds = tf.data.Dataset.from_tensor_slices(series)\n",
    "    ds = ds.window(window_size + 1, shift=1, drop_remainder=True)\n",
    "    ds = ds.flat_map(lambda w: w.batch(window_size + 1))\n",
    "    ds = ds.shuffle(shuffle_buffer)\n",
    "    ds = ds.map(lambda w: (w[:-1], w[-1:]))\n",
    "    return ds.batch(batch_size).prefetch(1)"
   ]
  },
  {
   "cell_type": "code",
   "execution_count": 7,
   "metadata": {},
   "outputs": [],
   "source": [
    "train_set = windowed_dataset(humidity, window_size=60, batch_size=100, shuffle_buffer=1000)"
   ]
  },
  {
   "cell_type": "code",
   "execution_count": 14,
   "metadata": {},
   "outputs": [],
   "source": [
    "cnn_model = tf.keras.models.Sequential([\n",
    "    Conv1D(64, kernel_size=2, activation=\"relu\", input_shape=[60, 1]),\n",
    "    MaxPooling1D(pool_size=2),\n",
    "    Conv1D(64, kernel_size=2, activation=\"relu\"),\n",
    "    MaxPooling1D(pool_size=2),\n",
    "    Flatten(),\n",
    "    Dense(128, activation=\"relu\"),\n",
    "    Dense(64, activation=\"relu\"),\n",
    "    Dense(1),\n",
    "])"
   ]
  },
  {
   "cell_type": "code",
   "execution_count": 15,
   "metadata": {},
   "outputs": [],
   "source": [
    "optimizer = tf.keras.optimizers.SGD(learning_rate=0.001, momentum=0.9)\n",
    "cnn_model.compile(loss=tf.keras.losses.MeanAbsoluteError(),\n",
    "                  optimizer=optimizer,\n",
    "                  metrics=[MeanSquaredError(), RootMeanSquaredError()])"
   ]
  },
  {
   "cell_type": "code",
   "execution_count": 16,
   "metadata": {},
   "outputs": [
    {
     "name": "stdout",
     "output_type": "stream",
     "text": [
      "Epoch 1/10\n",
      "41/41 [==============================] - 2s 19ms/step - loss: 0.1870 - mean_squared_error: 0.0571 - root_mean_squared_error: 0.2389\n",
      "Epoch 2/10\n",
      "41/41 [==============================] - 1s 15ms/step - loss: 0.1253 - mean_squared_error: 0.0251 - root_mean_squared_error: 0.1586\n",
      "Epoch 3/10\n",
      "41/41 [==============================] - 1s 15ms/step - loss: 0.1217 - mean_squared_error: 0.0239 - root_mean_squared_error: 0.1545\n",
      "Epoch 4/10\n",
      "41/41 [==============================] - 1s 18ms/step - loss: 0.1209 - mean_squared_error: 0.0236 - root_mean_squared_error: 0.1535\n",
      "Epoch 5/10\n",
      "41/41 [==============================] - 1s 16ms/step - loss: 0.1201 - mean_squared_error: 0.0235 - root_mean_squared_error: 0.1532\n",
      "Epoch 6/10\n",
      "41/41 [==============================] - 1s 15ms/step - loss: 0.1184 - mean_squared_error: 0.0229 - root_mean_squared_error: 0.1513\n",
      "Epoch 7/10\n",
      "41/41 [==============================] - 1s 15ms/step - loss: 0.1177 - mean_squared_error: 0.0226 - root_mean_squared_error: 0.1504\n",
      "Epoch 8/10\n",
      "41/41 [==============================] - 1s 16ms/step - loss: 0.1171 - mean_squared_error: 0.0224 - root_mean_squared_error: 0.1496\n",
      "Epoch 9/10\n",
      "41/41 [==============================] - 1s 15ms/step - loss: 0.1165 - mean_squared_error: 0.0222 - root_mean_squared_error: 0.1490\n",
      "Epoch 10/10\n",
      "41/41 [==============================] - 1s 18ms/step - loss: 0.1159 - mean_squared_error: 0.0221 - root_mean_squared_error: 0.1486\n"
     ]
    }
   ],
   "source": [
    "history_cnn = cnn_model.fit(train_set, epochs=10)"
   ]
  },
  {
   "cell_type": "code",
   "execution_count": 17,
   "metadata": {},
   "outputs": [
    {
     "name": "stdout",
     "output_type": "stream",
     "text": [
      "41/41 [==============================] - 1s 19ms/step - loss: 0.1159 - mean_squared_error: 0.0221 - root_mean_squared_error: 0.1485\n"
     ]
    },
    {
     "data": {
      "text/plain": [
       "[0.11594395339488983, 0.022050034254789352, 0.14849254488945007]"
      ]
     },
     "execution_count": 17,
     "metadata": {},
     "output_type": "execute_result"
    }
   ],
   "source": [
    "forecast = cnn_model.evaluate(train_set)\n",
    "forecast"
   ]
  },
  {
   "cell_type": "code",
   "execution_count": 19,
   "metadata": {},
   "outputs": [
    {
     "data": {
      "image/png": "[encoded data removed]",
      "text/plain": [
       "<Figure size 500x500 with 1 Axes>"
      ]
     },
     "metadata": {},
     "output_type": "display_data"
    }
   ],
   "source": [
    "plt.figure(figsize=(5, 5))\n",
    "plt.plot(history_cnn.history[\"loss\"])\n",
    "plt.plot(history_cnn.history[\"mean_squared_error\"])\n",
    "plt.plot(history_cnn.history[\"root_mean_squared_error\"])\n",
    "plt.title(\"Loss, MSE & RMSE\")\n",
    "plt.ylabel(\"loss\")\n",
    "plt.xlabel(\"epochs\")\n",
    "plt.legend([\"Loss\", \"MSE\", \"RMSE\"], loc=\"best\")\n",
    "plt.show()"
   ]
  },
  {
   "cell_type": "code",
   "execution_count": 20,
   "metadata": {},
   "outputs": [
    {
     "name": "stdout",
     "output_type": "stream",
     "text": [
      "INFO:tensorflow:Assets written to: ../models/cnn_model\\assets\n"
     ]
    },
    {
     "name": "stderr",
     "output_type": "stream",
     "text": [
      "INFO:tensorflow:Assets written to: ../models/cnn_model\\assets\n"
     ]
    }
   ],
   "source": [
    "cnn_model.save(\"../models/cnn_model\")"
   ]
  },
  {
   "cell_type": "code",
   "execution_count": 21,
   "metadata": {},
   "outputs": [
    {
     "name": "stdout",
     "output_type": "stream",
     "text": [
      "Model: \"sequential_1\"\n",
      "_________________________________________________________________\n",
      " Layer (type)                Output Shape              Param #   \n",
      "=================================================================\n",
      " conv1d_4 (Conv1D)           (None, 59, 64)            192       \n",
      "                                                                 \n",
      " max_pooling1d_3 (MaxPoolin  (None, 29, 64)            0         \n",
      " g1D)                                                            \n",
      "                                                                 \n",
      " conv1d_5 (Conv1D)           (None, 28, 64)            8256      \n",
      "                                                                 \n",
      " max_pooling1d_4 (MaxPoolin  (None, 14, 64)            0         \n",
      " g1D)                                                            \n",
      "                                                                 \n",
      " flatten_1 (Flatten)         (None, 896)               0         \n",
      "                                                                 \n",
      " dense_3 (Dense)             (None, 128)               114816    \n",
      "                                                                 \n",
      " dense_4 (Dense)             (None, 64)                8256      \n",
      "                                                                 \n",
      " dense_5 (Dense)             (None, 1)                 65        \n",
      "                                                                 \n",
      "=================================================================\n",
      "Total params: 131585 (514.00 KB)\n",
      "Trainable params: 131585 (514.00 KB)\n",
      "Non-trainable params: 0 (0.00 Byte)\n",
      "_________________________________________________________________\n"
     ]
    }
   ],
   "source": [
    "model = tf.keras.models.load_model(\"../models/cnn_model\")\n",
    "model.summary()"
   ]
  }
 ],
 "metadata": {
  "kernelspec": {
   "display_name": "Python 3",
   "language": "python",
   "name": "python3"
  },
  "language_info": {
   "codemirror_mode": {
    "name": "ipython",
    "version": 3
   },
   "file_extension": ".py",
   "mimetype": "text/x-python",
   "name": "python",
   "nbconvert_exporter": "python",
   "pygments_lexer": "ipython3",
   "version": "3.10.10"
  }
 },
 "nbformat": 4,
 "nbformat_minor": 2
}
